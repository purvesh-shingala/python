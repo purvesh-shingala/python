{
 "cells": [
  {
   "cell_type": "markdown",
   "metadata": {},
   "source": [
    "count()\n",
    "s.count(substring)\n",
    "s.count(substring,login,end)"
   ]
  },
  {
   "cell_type": "code",
   "execution_count": 7,
   "metadata": {},
   "outputs": [
    {
     "name": "stdout",
     "output_type": "stream",
     "text": [
      "2\n",
      "1\n",
      "1\n",
      "0\n"
     ]
    }
   ],
   "source": [
    "s=\"abcsiasdlkxhf\"\n",
    "print(s.count(\"a\"))\n",
    "print(s.count('a',3,10))\n",
    "print(s.count('h'))\n",
    "print(s.count(' x'))"
   ]
  },
  {
   "cell_type": "markdown",
   "metadata": {},
   "source": [
    "replace()\n",
    "s.replace(old string,new string)"
   ]
  },
  {
   "cell_type": "code",
   "execution_count": 16,
   "metadata": {},
   "outputs": [
    {
     "name": "stdout",
     "output_type": "stream",
     "text": [
      "learning python is very easy.\n"
     ]
    }
   ],
   "source": [
    "s='learning java is very easy.'\n",
    "s1=s.replace(\"java\",'python')\n",
    "print(s1)"
   ]
  },
  {
   "cell_type": "code",
   "execution_count": 17,
   "metadata": {},
   "outputs": [
    {
     "name": "stdout",
     "output_type": "stream",
     "text": [
      "learning python is very easy python java.\n"
     ]
    }
   ],
   "source": [
    "s='learning java is very easy java java.'\n",
    "s1=s.replace(\"java\",'python',2)\n",
    "print(s1)"
   ]
  },
  {
   "cell_type": "markdown",
   "metadata": {},
   "source": [
    "split()       \n",
    "s.split(spration)"
   ]
  },
  {
   "cell_type": "code",
   "execution_count": 20,
   "metadata": {},
   "outputs": [
    {
     "name": "stdout",
     "output_type": "stream",
     "text": [
      "['LJ', 'University']\n"
     ]
    }
   ],
   "source": [
    "s=\"LJ University\"\n",
    "l=s.split()\n",
    "print(l)"
   ]
  },
  {
   "cell_type": "code",
   "execution_count": 21,
   "metadata": {},
   "outputs": [
    {
     "name": "stdout",
     "output_type": "stream",
     "text": [
      "['10', '04', '2024']\n"
     ]
    }
   ],
   "source": [
    "s='10-04-2024'\n",
    "l=s.split('-')\n",
    "print(l)"
   ]
  },
  {
   "cell_type": "code",
   "execution_count": 23,
   "metadata": {},
   "outputs": [
    {
     "name": "stdout",
     "output_type": "stream",
     "text": [
      "['1', '-', '4-2', '24']\n"
     ]
    }
   ],
   "source": [
    "s='10-04-2024'\n",
    "\n",
    "l=s.split('0')\n",
    "print(l)"
   ]
  },
  {
   "cell_type": "code",
   "execution_count": 24,
   "metadata": {},
   "outputs": [
    {
     "name": "stdout",
     "output_type": "stream",
     "text": [
      "['10-0', '-202', '']\n"
     ]
    }
   ],
   "source": [
    "s='10-04-2024'\n",
    "\n",
    "l=s.split('4')\n",
    "print(l)"
   ]
  },
  {
   "cell_type": "markdown",
   "metadata": {},
   "source": [
    "translate() with maketrans function"
   ]
  },
  {
   "cell_type": "code",
   "execution_count": 26,
   "metadata": {},
   "outputs": [
    {
     "name": "stdout",
     "output_type": "stream",
     "text": [
      "!\"#$%&'()*+,-./:;<=>?@[\\]^_`{|}~\n",
      "32\n"
     ]
    }
   ],
   "source": [
    "s='pyt@$h%on'\n",
    "import string\n",
    "print(string.punctuation)\n",
    "print(len(string.punctuation))"
   ]
  },
  {
   "cell_type": "code",
   "execution_count": 29,
   "metadata": {},
   "outputs": [
    {
     "name": "stdout",
     "output_type": "stream",
     "text": [
      "{97: 98, 33: None, 34: None, 35: None, 36: None, 37: None, 38: None, 39: None, 40: None, 41: None, 42: None, 43: None, 44: None, 45: None, 46: None, 47: None, 58: None, 59: None, 60: None, 61: None, 62: None, 63: None, 64: None, 91: None, 92: None, 93: None, 94: None, 95: None, 96: None, 123: None, 124: None, 125: None, 126: None}\n"
     ]
    }
   ],
   "source": [
    "import string\n",
    "print(str.maketrans('a','b',string.punctuation))"
   ]
  },
  {
   "cell_type": "code",
   "execution_count": 31,
   "metadata": {},
   "outputs": [
    {
     "name": "stdout",
     "output_type": "stream",
     "text": [
      "{97: 98, 36: None, 64: None}\n"
     ]
    }
   ],
   "source": [
    "import string\n",
    "print(str.maketrans('a','b','$@'))"
   ]
  },
  {
   "cell_type": "code",
   "execution_count": 34,
   "metadata": {},
   "outputs": [
    {
     "name": "stdout",
     "output_type": "stream",
     "text": [
      "Lebrning python is very ebsy\n"
     ]
    }
   ],
   "source": [
    "import string\n",
    "s='Lear@ning pyt$%h!on is very ea$sy'\n",
    "t=s.maketrans('a','b',string.punctuation)\n",
    "x=s.translate(t)\n",
    "print(x)"
   ]
  },
  {
   "cell_type": "code",
   "execution_count": 2,
   "metadata": {},
   "outputs": [
    {
     "name": "stdout",
     "output_type": "stream",
     "text": [
      "hi Joe!!\n"
     ]
    }
   ],
   "source": [
    "t='hi Sam!!'\n",
    "x='mSa'\n",
    "y='eJo'\n",
    "mytable=t.maketrans(x,y,'b')\n",
    "print(t.translate(mytable))"
   ]
  },
  {
   "cell_type": "markdown",
   "metadata": {},
   "source": [
    "*tuple\n",
    "- exactly sme as list expact it is immutable\n",
    "- tuple is read only version of list\n",
    "- data is fixed and never change then we should for tuple\n",
    "- insercion order is preserved\n",
    "- duplicate are allowed\n",
    "- heterageneous object are allowed\n",
    "- we can preserve inserction order and different dupicates by using index\n",
    "- inedx will play very important in tuple also\n",
    "- support +ve and -ve indexing\n",
    "- represent tuple elements with () parenthesis and with comma separator"
   ]
  },
  {
   "cell_type": "markdown",
   "metadata": {},
   "source": [
    "+ - concatenation\n",
    "* - repetition\n"
   ]
  },
  {
   "cell_type": "code",
   "execution_count": 37,
   "metadata": {},
   "outputs": [
    {
     "name": "stdout",
     "output_type": "stream",
     "text": [
      "(10, 20, 30, 40, 50, 60)\n",
      "(10, 20, 30, 10, 20, 30, 10, 20, 30)\n"
     ]
    }
   ],
   "source": [
    "t1=(10,20,30)\n",
    "t2=(40,50,60)\n",
    "t=t1+t2\n",
    "print(t)\n",
    "x=t1*3\n",
    "print(x)"
   ]
  },
  {
   "cell_type": "code",
   "execution_count": 38,
   "metadata": {},
   "outputs": [
    {
     "name": "stdout",
     "output_type": "stream",
     "text": [
      "4\n"
     ]
    }
   ],
   "source": [
    "#1 len()\n",
    "t=(10,20,30,40)\n",
    "print(len(t))\n"
   ]
  },
  {
   "cell_type": "code",
   "execution_count": 40,
   "metadata": {},
   "outputs": [
    {
     "name": "stdout",
     "output_type": "stream",
     "text": [
      "2\n",
      "1\n",
      "0\n"
     ]
    }
   ],
   "source": [
    "#2 count()\n",
    "t=(10,20,30,10,20,40,50,30)\n",
    "print(t.count(10))\n",
    "print(t.count(40))\n",
    "print(t.count(60))"
   ]
  },
  {
   "cell_type": "code",
   "execution_count": 42,
   "metadata": {},
   "outputs": [
    {
     "name": "stdout",
     "output_type": "stream",
     "text": [
      "0\n",
      "1\n"
     ]
    }
   ],
   "source": [
    "#3 index()\n",
    "t=(10,20,10,30,40,20)\n",
    "#give first 10's index\n",
    "print(t.index(10))\n",
    "print(t.index(20))\n",
    "#print(t.index(50))--it is giving error"
   ]
  },
  {
   "cell_type": "code",
   "execution_count": 45,
   "metadata": {},
   "outputs": [
    {
     "name": "stdout",
     "output_type": "stream",
     "text": [
      "[10, 20, 30, 40]\n",
      "[40, 30, 20, 10]\n"
     ]
    }
   ],
   "source": [
    "#4 sorted()\n",
    "t=(40,10,20,30)\n",
    "t1=sorted(t)\n",
    "t2=sorted(t,reverse=True)\n",
    "print(t1)\n",
    "print(t2)"
   ]
  },
  {
   "cell_type": "code",
   "execution_count": 46,
   "metadata": {},
   "outputs": [
    {
     "name": "stdout",
     "output_type": "stream",
     "text": [
      "ABC\n",
      "def\n"
     ]
    }
   ],
   "source": [
    "t=('abc',\"ABC\",\"def\",\"dXZ\")\n",
    "print(min(t))\n",
    "print(max(t))"
   ]
  },
  {
   "cell_type": "markdown",
   "metadata": {},
   "source": [
    "tuple packing"
   ]
  },
  {
   "cell_type": "code",
   "execution_count": 47,
   "metadata": {},
   "outputs": [
    {
     "name": "stdout",
     "output_type": "stream",
     "text": [
      "(10, 20, 30, 40)\n"
     ]
    }
   ],
   "source": [
    "a=10\n",
    "b=20\n",
    "c=30\n",
    "d=40\n",
    "t=a,b,c,d\n",
    "print(t)"
   ]
  },
  {
   "cell_type": "code",
   "execution_count": 48,
   "metadata": {},
   "outputs": [
    {
     "name": "stdout",
     "output_type": "stream",
     "text": [
      "10 20 30\n"
     ]
    }
   ],
   "source": [
    "#tuple unpacking\n",
    "t=(10,20,30)\n",
    "a,b,c=t\n",
    "print(a,b,c)"
   ]
  },
  {
   "cell_type": "code",
   "execution_count": 49,
   "metadata": {},
   "outputs": [
    {
     "ename": "ValueError",
     "evalue": "too many values to unpack (expected 2)",
     "output_type": "error",
     "traceback": [
      "\u001b[1;31m---------------------------------------------------------------------------\u001b[0m",
      "\u001b[1;31mValueError\u001b[0m                                Traceback (most recent call last)",
      "\u001b[1;32m<ipython-input-49-20867fac1482>\u001b[0m in \u001b[0;36m<module>\u001b[1;34m\u001b[0m\n\u001b[0;32m      1\u001b[0m \u001b[0mt\u001b[0m\u001b[1;33m=\u001b[0m\u001b[1;33m(\u001b[0m\u001b[1;36m10\u001b[0m\u001b[1;33m,\u001b[0m\u001b[1;36m20\u001b[0m\u001b[1;33m,\u001b[0m\u001b[1;36m30\u001b[0m\u001b[1;33m)\u001b[0m\u001b[1;33m\u001b[0m\u001b[1;33m\u001b[0m\u001b[0m\n\u001b[1;32m----> 2\u001b[1;33m \u001b[0ma\u001b[0m\u001b[1;33m,\u001b[0m\u001b[0mb\u001b[0m\u001b[1;33m=\u001b[0m\u001b[0mt\u001b[0m\u001b[1;33m\u001b[0m\u001b[1;33m\u001b[0m\u001b[0m\n\u001b[0m",
      "\u001b[1;31mValueError\u001b[0m: too many values to unpack (expected 2)"
     ]
    }
   ],
   "source": [
    "t=(10,20,30)\n",
    "a,b=t"
   ]
  },
  {
   "cell_type": "code",
   "execution_count": 50,
   "metadata": {},
   "outputs": [
    {
     "name": "stdout",
     "output_type": "stream",
     "text": [
      "apple\n",
      "bamnana\n",
      "cherry\n"
     ]
    }
   ],
   "source": [
    "t=('apple','bamnana','cherry')\n",
    "for i in t:\n",
    "    print(i)"
   ]
  },
  {
   "cell_type": "code",
   "execution_count": 52,
   "metadata": {},
   "outputs": [
    {
     "name": "stdout",
     "output_type": "stream",
     "text": [
      "apple\n",
      "bamnana\n",
      "cherry\n"
     ]
    }
   ],
   "source": [
    "t=('apple','bamnana','cherry')\n",
    "for i in range (len(t)):\n",
    "    print(t[i])"
   ]
  },
  {
   "cell_type": "code",
   "execution_count": 56,
   "metadata": {},
   "outputs": [
    {
     "name": "stdout",
     "output_type": "stream",
     "text": [
      "apple\n",
      "bamnana\n",
      "cherry\n"
     ]
    }
   ],
   "source": [
    "t=('apple','bamnana','cherry')\n",
    "i=0\n",
    "while i!=len(t):\n",
    "    print(t[i])\n",
    "    i=i+1\n",
    "    "
   ]
  },
  {
   "cell_type": "code",
   "execution_count": 62,
   "metadata": {},
   "outputs": [
    {
     "name": "stdout",
     "output_type": "stream",
     "text": [
      "[(10, 'eat'), (11, 'sleep'), (12, 'walk')]\n"
     ]
    }
   ],
   "source": [
    "l1=('eat','sleep','walk')\n",
    "print(list(enumerate(l1,10)))"
   ]
  },
  {
   "cell_type": "code",
   "execution_count": 2,
   "metadata": {},
   "outputs": [
    {
     "name": "stdout",
     "output_type": "stream",
     "text": [
      "Enter String  :  purvesh\n",
      "Enter Index : 2\n",
      "7\n",
      "puvesh\n"
     ]
    }
   ],
   "source": [
    "#write a programe to remove given inedx's character from string\n",
    "S=input('Enter String  :  ')\n",
    "a=int(input(\"Enter Index : \"))\n",
    "i=0\n",
    "c=len(S)\n",
    "b=''\n",
    "print(len(S))\n",
    "while i!=c:\n",
    "    if i!=a:\n",
    "        b=b+S[i]\n",
    "    i=i+1\n",
    "        \n",
    "        \n",
    "print(b)    \n",
    "    \n"
   ]
  },
  {
   "cell_type": "code",
   "execution_count": 9,
   "metadata": {},
   "outputs": [
    {
     "name": "stdout",
     "output_type": "stream",
     "text": [
      "Enter String  :  purvesh\n",
      "Enter Index : 2\n",
      "puvesh\n"
     ]
    }
   ],
   "source": [
    "#write a programe to remove given inedx's character from string\n",
    "S=input('Enter String  :  ')\n",
    "n=int(input(\"Enter Index : \"))\n",
    "x=S[:n]+S[n+1:]\n",
    "print(x)"
   ]
  },
  {
   "cell_type": "code",
   "execution_count": 3,
   "metadata": {},
   "outputs": [
    {
     "ename": "AttributeError",
     "evalue": "'list' object has no attribute 'len'",
     "output_type": "error",
     "traceback": [
      "\u001b[1;31m---------------------------------------------------------------------------\u001b[0m",
      "\u001b[1;31mAttributeError\u001b[0m                            Traceback (most recent call last)",
      "\u001b[1;32m<ipython-input-3-b5bbefd6ede3>\u001b[0m in \u001b[0;36m<module>\u001b[1;34m\u001b[0m\n\u001b[0;32m      5\u001b[0m \u001b[0mg\u001b[0m\u001b[1;33m=\u001b[0m\u001b[1;36m0\u001b[0m\u001b[1;33m\u001b[0m\u001b[1;33m\u001b[0m\u001b[0m\n\u001b[0;32m      6\u001b[0m \u001b[0mc\u001b[0m\u001b[1;33m=\u001b[0m\u001b[0mlen\u001b[0m\u001b[1;33m(\u001b[0m\u001b[0mb\u001b[0m\u001b[1;33m)\u001b[0m\u001b[1;33m\u001b[0m\u001b[1;33m\u001b[0m\u001b[0m\n\u001b[1;32m----> 7\u001b[1;33m \u001b[1;32mfor\u001b[0m \u001b[0mi\u001b[0m \u001b[1;32min\u001b[0m \u001b[0mrange\u001b[0m\u001b[1;33m(\u001b[0m\u001b[1;36m0\u001b[0m\u001b[1;33m,\u001b[0m\u001b[0mb\u001b[0m\u001b[1;33m.\u001b[0m\u001b[0mlen\u001b[0m\u001b[1;33m(\u001b[0m\u001b[1;33m)\u001b[0m\u001b[1;33m)\u001b[0m\u001b[1;33m:\u001b[0m\u001b[1;33m\u001b[0m\u001b[1;33m\u001b[0m\u001b[0m\n\u001b[0m\u001b[0;32m      8\u001b[0m     \u001b[1;32mif\u001b[0m \u001b[0msub\u001b[0m\u001b[1;33m==\u001b[0m\u001b[0mb\u001b[0m\u001b[1;33m[\u001b[0m\u001b[0mi\u001b[0m\u001b[1;33m]\u001b[0m\u001b[1;33m:\u001b[0m\u001b[1;33m\u001b[0m\u001b[1;33m\u001b[0m\u001b[0m\n\u001b[0;32m      9\u001b[0m         \u001b[0mg\u001b[0m\u001b[1;33m=\u001b[0m\u001b[0mg\u001b[0m\u001b[1;33m+\u001b[0m\u001b[1;36m1\u001b[0m\u001b[1;33m\u001b[0m\u001b[1;33m\u001b[0m\u001b[0m\n",
      "\u001b[1;31mAttributeError\u001b[0m: 'list' object has no attribute 'len'"
     ]
    }
   ],
   "source": [
    "S=\"Welcome to usa USA is awesome Usain is from Usa\"\n",
    "sub='usa'\n",
    "b=S.split(\" \")\n",
    "S.lower()\n",
    "g=0\n",
    "c=len(b)\n",
    "for i in range(0,b.len()):\n",
    "    if sub==b[i]:\n",
    "        g=g+1\n",
    "    i=i+1"
   ]
  },
  {
   "cell_type": "code",
   "execution_count": 1,
   "metadata": {},
   "outputs": [
    {
     "name": "stdout",
     "output_type": "stream",
     "text": [
      "4\n"
     ]
    }
   ],
   "source": [
    "S=\"Welcome to usa USA is awesome Usain is from Usa\"\n",
    "sub='usa'\n",
    "S=S.lower()\n",
    "print(S.count(sub))\n"
   ]
  },
  {
   "cell_type": "code",
   "execution_count": 6,
   "metadata": {},
   "outputs": [
    {
     "name": "stdout",
     "output_type": "stream",
     "text": [
      "Enter String  : 123$1\n",
      "7\n"
     ]
    }
   ],
   "source": [
    "# print sum of all digts in string\n",
    "S=input(\"Enter String  : \")\n",
    "\n",
    "i=0\n",
    "sum=0\n",
    "\n",
    "\n",
    "for i in (S) :\n",
    "    if i.isdigit() :\n",
    "       \n",
    "        sum=sum+int(i)\n",
    "print(sum)"
   ]
  },
  {
   "cell_type": "code",
   "execution_count": 7,
   "metadata": {},
   "outputs": [
    {
     "name": "stdout",
     "output_type": "stream",
     "text": [
      "Enter String  : 12ds%&$g\n",
      "12ds###g\n"
     ]
    }
   ],
   "source": [
    "#replace special character to #\n",
    "a=input(\"Enter String  : \")\n",
    "i=0\n",
    "b=''\n",
    "for i in (a):\n",
    "    if i.isdigit() or i.isalpha():\n",
    "        b=b+i\n",
    "    else:\n",
    "        b=b+'#'\n",
    "print(b)"
   ]
  },
  {
   "cell_type": "code",
   "execution_count": 13,
   "metadata": {},
   "outputs": [
    {
     "name": "stdout",
     "output_type": "stream",
     "text": [
      "Enter string : jsa$%^&\n",
      "jsa####\n"
     ]
    }
   ],
   "source": [
    "import string\n",
    "s=input(\"Enter string : \")\n",
    "for i in string.punctuation:\n",
    "    s=s.replace(i,'#')\n",
    "print(s)"
   ]
  },
  {
   "cell_type": "code",
   "execution_count": 15,
   "metadata": {},
   "outputs": [
    {
     "name": "stdout",
     "output_type": "stream",
     "text": [
      "40\n",
      "10\n"
     ]
    }
   ],
   "source": [
    "#minim and maximum element in a tuple without use of min max function without sorting     \n",
    "t=(10,20,30,40)\n",
    "max=0\n",
    "min=t[3]\n",
    "for i in (t):\n",
    "    if i>max:\n",
    "        max=i\n",
    "        \n",
    "    if i<min :\n",
    "        min=i\n",
    "print(max)\n",
    "print(min)\n",
    "        "
   ]
  },
  {
   "cell_type": "code",
   "execution_count": 19,
   "metadata": {},
   "outputs": [
    {
     "name": "stdout",
     "output_type": "stream",
     "text": [
      "Enter String : h fdbgf ihfkse  ihcfkjh hsdhf\n",
      "ihfkse  "
     ]
    }
   ],
   "source": [
    "#find even length word\n",
    "s=input(\"Enter String : \")\n",
    "c=s.split(\" \")\n",
    "\n",
    "for i in (c):\n",
    "    if len(i)%2==0:\n",
    "        print(i,end=' ')"
   ]
  },
  {
   "cell_type": "code",
   "execution_count": 23,
   "metadata": {},
   "outputs": [
    {
     "name": "stdout",
     "output_type": "stream",
     "text": [
      "Enter String : purvesh\n",
      "PURvesh\n"
     ]
    }
   ],
   "source": [
    "a=input(\"Enter String : \")\n",
    "print(a[:len(a)//2].upper() + a[len(a)//2:].lower())\n",
    "    "
   ]
  },
  {
   "cell_type": "code",
   "execution_count": 24,
   "metadata": {},
   "outputs": [
    {
     "name": "stdout",
     "output_type": "stream",
     "text": [
      "pu\n"
     ]
    }
   ],
   "source": [
    "a=\"purvesh\"\n",
    "print(a[0:2])"
   ]
  },
  {
   "cell_type": "code",
   "execution_count": 29,
   "metadata": {},
   "outputs": [
    {
     "name": "stdout",
     "output_type": "stream",
     "text": [
      "Enter String welcome to lj\n",
      "WelcomE TO LJ "
     ]
    }
   ],
   "source": [
    "#write a pograme to captiolize of first ad last letter of String\n",
    "a=input(\"Enter String \")\n",
    "c=a.split(' ')\n",
    "for i in (c):\n",
    "    if len(i)==1:\n",
    "        print(i.upper(),end=' ')\n",
    "    else:\n",
    "        print(i[0].upper()+i[1:(len(i)-1)].lower()+i[len(i)-1].upper(),end=' ' )"
   ]
  },
  {
   "cell_type": "code",
   "execution_count": 41,
   "metadata": {},
   "outputs": [
    {
     "name": "stdout",
     "output_type": "stream",
     "text": [
      "Enter String 1 : om\n",
      "Enter String 2 : omfds\n",
      "balanced\n"
     ]
    }
   ],
   "source": [
    "#write a programe to chech two strings are balance\n",
    "a=input(\"Enter String 1 : \")\n",
    "b=input(\"Enter String 2 : \")\n",
    "for i in range (0,len(a)):\n",
    "    c=0\n",
    "    for j in range(0,len(b)):\n",
    "        if a[i]==b[j]:\n",
    "            c=c+1\n",
    "    if c==0:\n",
    "        print(\"not balance\")\n",
    "        break;\n",
    "if c>0:\n",
    "    print(\"balanced\")"
   ]
  },
  {
   "cell_type": "code",
   "execution_count": 1,
   "metadata": {},
   "outputs": [
    {
     "name": "stdout",
     "output_type": "stream",
     "text": [
      "Enter Number  : 1234\n",
      "Enter Shift : 2\n",
      "3412\n"
     ]
    }
   ],
   "source": [
    "#write a pythomne programe to shift the decimal digit and places to the left rappinng the extra digit around if shift is grater than the number of digits than reverse the digits\n",
    "a=int(input(\"Enter Number  : \"))\n",
    "b=int(input(\"Enter Shift : \"))\n",
    "c=str(a)\n",
    "if b>len(c):\n",
    "    print(c[::-1])\n",
    "elif b==len(c):\n",
    "    print(c)\n",
    "else:\n",
    "    print(c[b:]+c[:b])"
   ]
  },
  {
   "cell_type": "code",
   "execution_count": 6,
   "metadata": {},
   "outputs": [
    {
     "name": "stdout",
     "output_type": "stream",
     "text": [
      "Enter password : Purvesh@!25\n",
      "invalid password\n"
     ]
    }
   ],
   "source": [
    "#write a programe to check the validity of a password \n",
    "a=input(\"Enter password : \")\n",
    "lw=0\n",
    "up=0\n",
    "digit=0\n",
    "sp=0\n",
    "ot=0\n",
    "\n",
    "    \n",
    "if len(a)>=8:\n",
    "    for i in range(len(a)):\n",
    "        if a[i].islower():\n",
    "            lw=lw+1\n",
    "        elif a[i].isupper():\n",
    "            up=up+1\n",
    "        elif a[i].isdigit():\n",
    "            digit=digit+1\n",
    "        elif a[i]=='_' or a[i]=='$' or a[i]=='@':\n",
    "            sp=sp+1\n",
    "        else : \n",
    "            ot=ot+1\n",
    "            \n",
    "    if lw>0 and up>0 and digit>0 and sp>0 and ot==0:\n",
    "        print('valid password')\n",
    "    else:\n",
    "        print('invalid password')\n",
    "        \n",
    "            \n",
    "else:\n",
    "    print(\"length less than 8\")"
   ]
  },
  {
   "cell_type": "code",
   "execution_count": 11,
   "metadata": {},
   "outputs": [
    {
     "name": "stdout",
     "output_type": "stream",
     "text": [
      "Enter String : purveshpushspui\n",
      "Enter sub string : pu\n",
      "Find at : 0\n",
      "Find at : 7\n",
      "Find at : 12\n",
      "3\n"
     ]
    }
   ],
   "source": [
    "#write a programe to display all posistios of sub string in a given string\n",
    "a=input('Enter String : ')\n",
    "b=input(\"Enter sub string : \")\n",
    "pos=-1\n",
    "flag=False\n",
    "n=len(a)\n",
    "c=0\n",
    "while True:\n",
    "    pos=a.find(b,pos+1,n)\n",
    "    if pos==-1:\n",
    "        break\n",
    "    c=c+1\n",
    "    print('Find at :',pos)\n",
    "    flag=True\n",
    "if flag==False : \n",
    "    print('not found')\n",
    "else:\n",
    "    print(c)"
   ]
  },
  {
   "cell_type": "code",
   "execution_count": 24,
   "metadata": {},
   "outputs": [
    {
     "name": "stdout",
     "output_type": "stream",
     "text": [
      "Enter String : purvesh9833\n",
      "ehprsuv3389\n"
     ]
    }
   ],
   "source": [
    "#write a programe to sort the characters of the string and first alphabate symbole numeric value\n",
    "a=input('Enter String : ')\n",
    "b=''\n",
    "c=''\n",
    "d=''\n",
    "for i in range(len(a)):\n",
    "    if a[i].isalpha():\n",
    "        b=b+a[i]\n",
    "    elif a[i].isdigit():\n",
    "        c=c+a[i]\n",
    "for x in sorted(b):\n",
    "    d=d+x\n",
    "for x in sorted(c):\n",
    "    d=d+x\n",
    "print(d)"
   ]
  },
  {
   "cell_type": "code",
   "execution_count": null,
   "metadata": {},
   "outputs": [],
   "source": []
  }
 ],
 "metadata": {
  "kernelspec": {
   "display_name": "Python 3",
   "language": "python",
   "name": "python3"
  },
  "language_info": {
   "codemirror_mode": {
    "name": "ipython",
    "version": 3
   },
   "file_extension": ".py",
   "mimetype": "text/x-python",
   "name": "python",
   "nbconvert_exporter": "python",
   "pygments_lexer": "ipython3",
   "version": "3.8.5"
  }
 },
 "nbformat": 4,
 "nbformat_minor": 4
}
