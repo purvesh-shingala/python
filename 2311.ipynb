{
 "cells": [
  {
   "cell_type": "code",
   "execution_count": 3,
   "metadata": {},
   "outputs": [
    {
     "name": "stdout",
     "output_type": "stream",
     "text": [
      "[1, 4, 5]\n"
     ]
    }
   ],
   "source": [
    "#wap to index of element which are not same\n",
    "l1=[1,2,3,4,5,6]\n",
    "l2=[1,5,3,4,7,8]\n",
    "l3=[]\n",
    "for i in range(len(l1)):\n",
    "    if l1[i]!=l2[i]:\n",
    "        l3.append(i)\n",
    "print(l3)\n",
    "       "
   ]
  },
  {
   "cell_type": "code",
   "execution_count": 3,
   "metadata": {},
   "outputs": [
    {
     "name": "stdout",
     "output_type": "stream",
     "text": [
      " Enter List : [5,2,5,8]\n",
      "original  list :  [5, 2, 5, 8]\n",
      "0\n"
     ]
    }
   ],
   "source": [
    "# even a list l of size n you need to count a number of special element in the given list an element is special if the removel that element make the list balanced the list will be balanced if sm of even index element is eqal to sum of element also print the updated list after removel of special elements\n",
    "l=eval(input(' Enter List : '))\n",
    "print('original  list : ',l)\n",
    "count=0\n",
    "\n",
    "for i in range(len(l)):\n",
    "    sum1=0\n",
    "    sum2=0\n",
    "    c=l.copy()\n",
    "    c.pop(i)\n",
    "    for k in c[::2]:\n",
    "        sum1+=k\n",
    "    for k in c[1::2]:\n",
    "        sum2+=k\n",
    "    if sum1==sum2:\n",
    "        count+=1\n",
    "        print(\"index removed : \",i)\n",
    "        print('list after remove ',i,' index : ',l[0:i]+l[i+1:])\n",
    "print(count)\n"
   ]
  },
  {
   "cell_type": "markdown",
   "metadata": {},
   "source": [
    "# lamda function"
   ]
  },
  {
   "cell_type": "markdown",
   "metadata": {},
   "source": [
    "function without any name is called anonumious or lamda function"
   ]
  },
  {
   "cell_type": "code",
   "execution_count": 6,
   "metadata": {
    "scrolled": true
   },
   "outputs": [
    {
     "name": "stdout",
     "output_type": "stream",
     "text": [
      "4\n",
      "Square is  4\n"
     ]
    },
    {
     "ename": "TypeError",
     "evalue": "'function' object is not subscriptable",
     "output_type": "error",
     "traceback": [
      "\u001b[1;31m---------------------------------------------------------------------------\u001b[0m",
      "\u001b[1;31mTypeError\u001b[0m                                 Traceback (most recent call last)",
      "\u001b[1;32m<ipython-input-6-eb9c590c6453>\u001b[0m in \u001b[0;36m<module>\u001b[1;34m\u001b[0m\n\u001b[0;32m      4\u001b[0m \u001b[0ms\u001b[0m\u001b[1;33m=\u001b[0m\u001b[1;32mlambda\u001b[0m \u001b[0mn\u001b[0m\u001b[1;33m:\u001b[0m\u001b[0mn\u001b[0m\u001b[1;33m*\u001b[0m\u001b[0mn\u001b[0m\u001b[1;33m\u001b[0m\u001b[1;33m\u001b[0m\u001b[0m\n\u001b[0;32m      5\u001b[0m \u001b[0mprint\u001b[0m\u001b[1;33m(\u001b[0m\u001b[1;34m\"Square is \"\u001b[0m\u001b[1;33m,\u001b[0m\u001b[0ms\u001b[0m\u001b[1;33m(\u001b[0m\u001b[1;36m2\u001b[0m\u001b[1;33m)\u001b[0m\u001b[1;33m)\u001b[0m\u001b[1;33m\u001b[0m\u001b[1;33m\u001b[0m\u001b[0m\n\u001b[1;32m----> 6\u001b[1;33m \u001b[0mprint\u001b[0m\u001b[1;33m(\u001b[0m\u001b[0ms\u001b[0m\u001b[1;33m[\u001b[0m\u001b[1;36m10\u001b[0m\u001b[1;33m]\u001b[0m\u001b[1;33m)\u001b[0m\u001b[1;33m\u001b[0m\u001b[1;33m\u001b[0m\u001b[0m\n\u001b[0m",
      "\u001b[1;31mTypeError\u001b[0m: 'function' object is not subscriptable"
     ]
    }
   ],
   "source": [
    "def square(n):\n",
    "    return n*n\n",
    "print(square(2))\n",
    "s=lambda n:n*n\n",
    "print(\"Square is \",s(2))\n",
    "print(s[10])"
   ]
  },
  {
   "cell_type": "code",
   "execution_count": 2,
   "metadata": {},
   "outputs": [
    {
     "name": "stdout",
     "output_type": "stream",
     "text": [
      "[2, 4, 6, 8, 10]\n"
     ]
    }
   ],
   "source": [
    "#1. map()\n",
    "#syntax : map(function,seqence)\n",
    "#-for every element present in sequence,apply same functionality and generate new element with required modification\n",
    "l=[1,2,3,4,5]\n",
    "def double(x):\n",
    "    return 2*x\n",
    "l1=list(map(double,l))\n",
    "print(l1)"
   ]
  },
  {
   "cell_type": "code",
   "execution_count": 3,
   "metadata": {},
   "outputs": [
    {
     "name": "stdout",
     "output_type": "stream",
     "text": [
      "[2, 4, 6, 8, 10]\n"
     ]
    }
   ],
   "source": [
    "l=[1,2,3,4,5]\n",
    "l1=list(map(lambda x:2*x,l))\n",
    "print(l1)"
   ]
  },
  {
   "cell_type": "code",
   "execution_count": 5,
   "metadata": {},
   "outputs": [
    {
     "name": "stdout",
     "output_type": "stream",
     "text": [
      "[5, 7, 9, 11, 13]\n"
     ]
    }
   ],
   "source": [
    "l1=[1,2,3,4,5]\n",
    "l2=[4,5,6,7,8]\n",
    "l3=list(map(lambda x,y:x+y , l1,l2))\n",
    "print(l3)"
   ]
  },
  {
   "cell_type": "code",
   "execution_count": 6,
   "metadata": {},
   "outputs": [
    {
     "name": "stdout",
     "output_type": "stream",
     "text": [
      "100\n"
     ]
    }
   ],
   "source": [
    "#reduce()\n",
    "#reduce sequence of element into a single element by applying the special function\n",
    "#syntax reduce(function,sequence)\n",
    "#reduce funcion present in functools module so we need to import that first to use reduce() function\n",
    "from functools import *\n",
    "l=[10,20,30,40]\n",
    "sum=reduce(lambda x,y:x+y , l)\n",
    "print(sum)\n"
   ]
  },
  {
   "cell_type": "code",
   "execution_count": 9,
   "metadata": {},
   "outputs": [
    {
     "name": "stdout",
     "output_type": "stream",
     "text": [
      "[10, 20, 30]\n"
     ]
    }
   ],
   "source": [
    "#filter()\n",
    "# wecan use filter funcion for filter values from given sequence based on same condition\n",
    "#syntax : filter(function,sequence)\n",
    "#function: functoin argument is responsible to perform condition check\n",
    "#sequence : item be list,tupe,string\n",
    "\n",
    "def iseven(x):\n",
    "    if x%2==0:\n",
    "        return True\n",
    "    else :\n",
    "        return False\n",
    "l=[10,15,20,25,30,35]\n",
    "l1=list(filter(iseven,l))\n",
    "print(l1)"
   ]
  },
  {
   "cell_type": "code",
   "execution_count": 10,
   "metadata": {},
   "outputs": [
    {
     "name": "stdout",
     "output_type": "stream",
     "text": [
      "[10, 20, 30]\n"
     ]
    }
   ],
   "source": [
    "l1=[10,15,20,25,30,35]\n",
    "l=list(filter(lambda x:x%2==0,l1))\n",
    "print(l)\n"
   ]
  },
  {
   "cell_type": "code",
   "execution_count": 11,
   "metadata": {},
   "outputs": [
    {
     "name": "stdout",
     "output_type": "stream",
     "text": [
      "['APPLE', 'BANANA', 'CHERRY']\n"
     ]
    }
   ],
   "source": [
    "#wap to convert string to upper case map function\n",
    "words=['apple','banana','cherry']\n",
    "l=list(map(lambda x:x.upper(),words))\n",
    "print(l)"
   ]
  },
  {
   "cell_type": "code",
   "execution_count": 13,
   "metadata": {},
   "outputs": [
    {
     "name": "stdout",
     "output_type": "stream",
     "text": [
      "['banana', 'cherry', 'strawbary']\n"
     ]
    }
   ],
   "source": [
    "#wap to filter word with length grater than 5\n",
    "l=['apple','banana','cherry','strawbary','kiwi']\n",
    "l1=list(filter(lambda x:len(x)>5,l))\n",
    "print(l1)"
   ]
  },
  {
   "cell_type": "code",
   "execution_count": 14,
   "metadata": {},
   "outputs": [
    {
     "name": "stdout",
     "output_type": "stream",
     "text": [
      "[19, 26, 39, 52, 65, 13, 78]\n"
     ]
    }
   ],
   "source": [
    "#wap to find numbers divisible by 19 or 13 from a list of numbers\n",
    "n=[19,26,39,52,65,13,78,90]\n",
    "l=list(filter(lambda x:x%13==0 or x%19==0 , n))\n",
    "print(l)"
   ]
  },
  {
   "cell_type": "code",
   "execution_count": null,
   "metadata": {},
   "outputs": [],
   "source": []
  }
 ],
 "metadata": {
  "kernelspec": {
   "display_name": "Python 3",
   "language": "python",
   "name": "python3"
  },
  "language_info": {
   "codemirror_mode": {
    "name": "ipython",
    "version": 3
   },
   "file_extension": ".py",
   "mimetype": "text/x-python",
   "name": "python",
   "nbconvert_exporter": "python",
   "pygments_lexer": "ipython3",
   "version": "3.8.5"
  }
 },
 "nbformat": 4,
 "nbformat_minor": 4
}
