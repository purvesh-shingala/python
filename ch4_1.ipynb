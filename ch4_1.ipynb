{
 "cells": [
  {
   "cell_type": "markdown",
   "metadata": {},
   "source": [
    "   ## Chapter-4. Immutable Data Structures\n",
    "\n",
    "1. String\n",
    "2. Tuple\n",
    "\n",
    "### 1. String.\n",
    "\n",
    "#### 1.1 Accessing character of String.\n",
    "1. By using Index.\n",
    "2. By using slicing operators.\n",
    "  1. Syntax.-----> S[begining index:ending index:step]"
   ]
  },
  {
   "cell_type": "code",
   "execution_count": 1,
   "metadata": {},
   "outputs": [
    {
     "name": "stdout",
     "output_type": "stream",
     "text": [
      "J\n",
      "t\n"
     ]
    },
    {
     "ename": "IndexError",
     "evalue": "string index out of range",
     "output_type": "error",
     "traceback": [
      "\u001b[1;31m---------------------------------------------------------------------------\u001b[0m",
      "\u001b[1;31mIndexError\u001b[0m                                Traceback (most recent call last)",
      "\u001b[1;32m<ipython-input-1-ab55319e658b>\u001b[0m in \u001b[0;36m<module>\u001b[1;34m\u001b[0m\n\u001b[0;32m      2\u001b[0m \u001b[0mprint\u001b[0m\u001b[1;33m(\u001b[0m\u001b[0ma\u001b[0m\u001b[1;33m[\u001b[0m\u001b[1;36m1\u001b[0m\u001b[1;33m]\u001b[0m\u001b[1;33m)\u001b[0m\u001b[1;33m\u001b[0m\u001b[1;33m\u001b[0m\u001b[0m\n\u001b[0;32m      3\u001b[0m \u001b[0mprint\u001b[0m\u001b[1;33m(\u001b[0m\u001b[0ma\u001b[0m\u001b[1;33m[\u001b[0m\u001b[1;33m-\u001b[0m\u001b[1;36m2\u001b[0m\u001b[1;33m]\u001b[0m\u001b[1;33m)\u001b[0m\u001b[1;33m\u001b[0m\u001b[1;33m\u001b[0m\u001b[0m\n\u001b[1;32m----> 4\u001b[1;33m \u001b[0mprint\u001b[0m\u001b[1;33m(\u001b[0m\u001b[0ma\u001b[0m\u001b[1;33m[\u001b[0m\u001b[1;36m20\u001b[0m\u001b[1;33m]\u001b[0m\u001b[1;33m)\u001b[0m\u001b[1;33m\u001b[0m\u001b[1;33m\u001b[0m\u001b[0m\n\u001b[0m",
      "\u001b[1;31mIndexError\u001b[0m: string index out of range"
     ]
    }
   ],
   "source": [
    "#1. By using Index.\n",
    "\n",
    "a='LJ University'\n",
    "print(a[1])\n",
    "print(a[-2])\n",
    "print(a[20])"
   ]
  },
  {
   "cell_type": "code",
   "execution_count": 7,
   "metadata": {},
   "outputs": [
    {
     "name": "stdout",
     "output_type": "stream",
     "text": [
      "earn\n",
      "er\n",
      "Learn\n",
      "Python is very easy!\n",
      "Learning Python is very easy!\n",
      "Learning Python is very easy!\n",
      "!ysae yrev si nohtyP gninraeL\n",
      "-----------\n",
      "\n",
      "-----------\n",
      "!ys\n"
     ]
    }
   ],
   "source": [
    "#2. By using slicing operators.\n",
    "\n",
    "s=\"Learning Python is very easy!\"\n",
    "print(s[1:5:1])\n",
    "print(s[1:5:2])\n",
    "print(s[:5])\n",
    "print(s[9:])\n",
    "print(s[::])\n",
    "print(s[:])\n",
    "print(s[::-1])\n",
    "print(\"-----------\")\n",
    "print(s[-1:-4])\n",
    "print(\"-----------\")\n",
    "print(s[-1:-4:-1])"
   ]
  },
  {
   "cell_type": "markdown",
   "metadata": {},
   "source": [
    "#### 1.2 Mathemetical Opreators for String.\n",
    "\n",
    "1. \" + \" ---> Concatation\n",
    "2. \" * \" ---> Repetation or String multiplication."
   ]
  },
  {
   "cell_type": "code",
   "execution_count": 10,
   "metadata": {},
   "outputs": [
    {
     "name": "stdout",
     "output_type": "stream",
     "text": [
      "aman Aryan\n",
      "aman aman aman \n"
     ]
    }
   ],
   "source": [
    "print(\"aman \" + \"Aryan\")\n",
    "print(\"aman \" * 3)"
   ]
  },
  {
   "cell_type": "markdown",
   "metadata": {},
   "source": [
    "#### 1.3 Comparision of String."
   ]
  },
  {
   "cell_type": "code",
   "execution_count": 13,
   "metadata": {},
   "outputs": [
    {
     "name": "stdout",
     "output_type": "stream",
     "text": [
      "Enter First Sting.abcdef\n",
      "Enter Second Sting.abbcdrfghtiklg\n",
      "First string is grater.\n"
     ]
    }
   ],
   "source": [
    "s1=input(\"Enter First Sting.\")\n",
    "s2=input(\"Enter Second Sting.\")\n",
    "if s1==s2:\n",
    "    print(\"Both String Are Equal\")\n",
    "elif s1>s2:\n",
    "    print(\"First string is grater.\")\n",
    "else:\n",
    "    print(\"Second String is grater.\")"
   ]
  },
  {
   "cell_type": "markdown",
   "metadata": {},
   "source": [
    "#### 1.4 Joining of Strings.\n",
    "\n",
    "1. Syntax---->S = Saperator.join(group of string)."
   ]
  },
  {
   "cell_type": "code",
   "execution_count": 21,
   "metadata": {},
   "outputs": [
    {
     "name": "stdout",
     "output_type": "stream",
     "text": [
      "Apple-Banana-Cherry\n",
      "Apple.Banana.Cherry\n"
     ]
    }
   ],
   "source": [
    "t=(\"Apple\",\"Banana\",\"Cherry\")\n",
    "s=\"-\".join(t)\n",
    "s1=\".\".join(t)\n",
    "print(s)\n",
    "print(s1)"
   ]
  },
  {
   "cell_type": "markdown",
   "metadata": {},
   "source": [
    "#### 1.5 Formating of String."
   ]
  },
  {
   "cell_type": "code",
   "execution_count": 19,
   "metadata": {},
   "outputs": [
    {
     "name": "stdout",
     "output_type": "stream",
     "text": [
      "Jenil's salary is 5000000 and his age is 19.\n",
      "Jenil's salary is 5000000 and his age is 19.\n",
      "5000000's salary is Jenil and his age is 19.\n",
      "Jenil's salary is 5000000 and his age is.\n"
     ]
    }
   ],
   "source": [
    "name=\"Jenil\"\n",
    "salary=5000000\n",
    "age=19\n",
    "print(\"{}'s salary is {} and his age is {}.\".format(name,salary,age))\n",
    "print(\"{0}'s salary is {1} and his age is {2}.\".format(name,salary,age))\n",
    "print(\"{1}'s salary is {0} and his age is {2}.\".format(name,salary,age))\n",
    "print(\"{}'s salary is {} and his age is.\".format(name,salary,age))"
   ]
  },
  {
   "cell_type": "markdown",
   "metadata": {},
   "source": [
    "#### 1.6 Important Functions of String.\n",
    "\n",
    "1. len(string name)\n",
    "2. Removing from srting\n",
    "  1. rstrip()\n",
    "  2. lstrip()\n",
    "  3. strip()\n",
    "3. Changing the case of String\n",
    "  1. upper()\n",
    "  2. lower()\n",
    "  3. swapcase()\n",
    "  4. title()\n",
    "  5. capitalize()\n",
    "4. To check type of charater present in a string. Answer in only in True or False (check function)\n",
    "  1. isalnum() (a to z, A to Z, 0-9) Returns all alpha numeric characters of string.\n",
    "  2. isalpha() (a to z, A to Z) Returns all alpha characters of string.\n",
    "  3. isdigit() or isnumeric() \n",
    "  4. islower()\n",
    "  5. isupper()\n",
    "  6. istitle()\n",
    "  7. isidentifier()\n",
    "  8. isspace()\n",
    "5. find()\n",
    "  1. syntax--> S.find(substring)  \n",
    "  2. syntax--> S.find(substring,begin,end)"
   ]
  },
  {
   "cell_type": "code",
   "execution_count": 25,
   "metadata": {},
   "outputs": [
    {
     "name": "stdout",
     "output_type": "stream",
     "text": [
      "8\n",
      "7\n",
      "8\n",
      "8\n"
     ]
    }
   ],
   "source": [
    "# 2nd function\n",
    "t=\"Bamnana \"\n",
    "x=t.rstrip()\n",
    "print(len(t))\n",
    "print(len(x))\n",
    "t1=\" Bamnana\"\n",
    "x1=t.lstrip()\n",
    "print(len(t1))\n",
    "print(len(x1))"
   ]
  },
  {
   "cell_type": "code",
   "execution_count": 28,
   "metadata": {},
   "outputs": [
    {
     "name": "stdout",
     "output_type": "stream",
     "text": [
      "Banan\n"
     ]
    }
   ],
   "source": [
    "t=\"Banana\"\n",
    "x=t.rstrip(\"a\")\n",
    "print(x)"
   ]
  },
  {
   "cell_type": "code",
   "execution_count": 29,
   "metadata": {},
   "outputs": [
    {
     "name": "stdout",
     "output_type": "stream",
     "text": [
      "B\n"
     ]
    }
   ],
   "source": [
    "t=\"Banana\"\n",
    "x=t.rstrip(\"an\")\n",
    "print(x)"
   ]
  },
  {
   "cell_type": "code",
   "execution_count": 30,
   "metadata": {},
   "outputs": [
    {
     "name": "stdout",
     "output_type": "stream",
     "text": [
      "Band\n"
     ]
    }
   ],
   "source": [
    "t=\"Bandana\"\n",
    "x=t.rstrip(\"an\")\n",
    "print(x)"
   ]
  },
  {
   "cell_type": "code",
   "execution_count": 33,
   "metadata": {},
   "outputs": [
    {
     "name": "stdout",
     "output_type": "stream",
     "text": [
      "dana\n"
     ]
    }
   ],
   "source": [
    "t=\"Bandana\"\n",
    "x=t.lstrip(\"Ban\")\n",
    "print(x)"
   ]
  },
  {
   "cell_type": "code",
   "execution_count": 36,
   "metadata": {},
   "outputs": [
    {
     "name": "stdout",
     "output_type": "stream",
     "text": [
      "hello friends.\n",
      "HELLO FRIENDS.\n",
      "-----------\n",
      "hELLO MY NAME IS jenil.\n",
      "-----------\n",
      "Welcome To Ljiet.\n",
      "-----------\n",
      "Learning python is very easy!\n"
     ]
    }
   ],
   "source": [
    "# 3rd function.\n",
    "s = \"Hello Friends.\"\n",
    "x=s.lower()\n",
    "print(x)\n",
    "x1=s.upper()\n",
    "print(x1)\n",
    "print(\"-----------\")\n",
    "\n",
    "t=\"Hello my name is JENIL.\"\n",
    "x3=t.swapcase()\n",
    "print(x3)\n",
    "print(\"-----------\")\n",
    "\n",
    "t2=\"Welcome to LJIET.\"\n",
    "x4=t2.title()\n",
    "print(x4)\n",
    "print(\"-----------\")\n",
    "\n",
    "t3=\"Learning Python Is Very Easy!\"\n",
    "x5=t3.capitalize()\n",
    "print(x5)"
   ]
  },
  {
   "cell_type": "code",
   "execution_count": 38,
   "metadata": {},
   "outputs": [
    {
     "name": "stdout",
     "output_type": "stream",
     "text": [
      "True\n",
      "False\n"
     ]
    }
   ],
   "source": [
    "# 4th function\n",
    "t=\"Jenil1234\"\n",
    "x=t.isalnum()\n",
    "print(x)\n",
    "t1=\"Jenil 1234\"\n",
    "x1=t1.isalnum()\n",
    "print(x1)"
   ]
  },
  {
   "cell_type": "code",
   "execution_count": 39,
   "metadata": {},
   "outputs": [
    {
     "name": "stdout",
     "output_type": "stream",
     "text": [
      "True\n"
     ]
    }
   ],
   "source": [
    "t=\"Jenil\"\n",
    "x=t.isalpha()\n",
    "print(x)"
   ]
  },
  {
   "cell_type": "code",
   "execution_count": 40,
   "metadata": {},
   "outputs": [
    {
     "name": "stdout",
     "output_type": "stream",
     "text": [
      "True\n"
     ]
    }
   ],
   "source": [
    "t=\"1234\"\n",
    "x=t.isdigit()\n",
    "print(x)"
   ]
  },
  {
   "cell_type": "code",
   "execution_count": 43,
   "metadata": {},
   "outputs": [
    {
     "name": "stdout",
     "output_type": "stream",
     "text": [
      "True\n",
      "False\n"
     ]
    }
   ],
   "source": [
    "t=\"JENIL\"\n",
    "x=t.isupper()\n",
    "print(x)\n",
    "t1=\"Jenil\"\n",
    "x1=t1.isupper()\n",
    "print(x1)"
   ]
  },
  {
   "cell_type": "code",
   "execution_count": 45,
   "metadata": {},
   "outputs": [
    {
     "name": "stdout",
     "output_type": "stream",
     "text": [
      "True\n",
      "False\n"
     ]
    }
   ],
   "source": [
    "t=\"jenil\"\n",
    "x=t.islower()\n",
    "print(x)\n",
    "t1=\"Jenil\"\n",
    "x1=t1.islower()\n",
    "print(x1)"
   ]
  },
  {
   "cell_type": "code",
   "execution_count": 49,
   "metadata": {},
   "outputs": [
    {
     "name": "stdout",
     "output_type": "stream",
     "text": [
      "False\n",
      "True\n",
      "True\n",
      "True\n"
     ]
    }
   ],
   "source": [
    "t=\"HELLO HOW ARE YOU.\"\n",
    "b=\"Hello\"\n",
    "c=\"22 Names.\"\n",
    "d=\"This Is ^&.\"\n",
    "print(t.istitle())\n",
    "print(b.istitle())\n",
    "print(c.istitle())\n",
    "print(d.istitle())"
   ]
  },
  {
   "cell_type": "code",
   "execution_count": 51,
   "metadata": {},
   "outputs": [
    {
     "name": "stdout",
     "output_type": "stream",
     "text": [
      "True\n",
      "True\n",
      "False\n",
      "False\n",
      "-----------\n",
      "True\n"
     ]
    }
   ],
   "source": [
    "a=\"MyFolder\"\n",
    "b=\"demo003\"\n",
    "c=\"2demo\"\n",
    "d=\"my demo\"\n",
    "print(a.isidentifier())\n",
    "print(b.isidentifier())\n",
    "print(c.isidentifier())\n",
    "print(d.isidentifier())\n",
    "\n",
    "print(\"-----------\")\n",
    "t=\" \"\n",
    "x=t.isspace()\n",
    "print(x)"
   ]
  },
  {
   "cell_type": "code",
   "execution_count": 56,
   "metadata": {},
   "outputs": [
    {
     "name": "stdout",
     "output_type": "stream",
     "text": [
      "Letters are  15\n",
      "Upper cases are  3\n",
      "Lower cases are  12\n",
      "Digits are  2\n",
      "Spaces are  4\n",
      "Special charecters are  4\n"
     ]
    }
   ],
   "source": [
    "s=\"Pyt@$ho%n is 12 Very E$sy\"\n",
    "letter=0\n",
    "digit=0\n",
    "space=0\n",
    "spechar=0\n",
    "upper=0\n",
    "lower=0\n",
    "\n",
    "for i in s:\n",
    "    if i.isalpha():\n",
    "        letter+=1\n",
    "        if i.isupper():\n",
    "            upper+=1\n",
    "        elif i.islower():\n",
    "            lower+=1\n",
    "    elif i.isdigit():\n",
    "        digit+=1\n",
    "    elif i.isspace():\n",
    "        space+=1\n",
    "    else:\n",
    "        spechar+=1\n",
    "print(\"Letters are \",letter)\n",
    "print(\"Upper cases are \",upper)\n",
    "print(\"Lower cases are \",lower)\n",
    "print(\"Digits are \",digit)\n",
    "print(\"Spaces are \",space)\n",
    "print(\"Special charecters are \",spechar)"
   ]
  },
  {
   "cell_type": "code",
   "execution_count": 59,
   "metadata": {},
   "outputs": [
    {
     "name": "stdout",
     "output_type": "stream",
     "text": [
      "2\n",
      "9\n",
      "-1\n",
      "25\n"
     ]
    }
   ],
   "source": [
    "s=\"Learning Python is very easy!\"\n",
    "print(s.find(\"a\"))\n",
    "print(s.find(\"Python\"))\n",
    "print(s.find(\"d\"))\n",
    "print(s.find(\"a\",3,100))"
   ]
  },
  {
   "cell_type": "code",
   "execution_count": null,
   "metadata": {},
   "outputs": [],
   "source": []
  }
 ],
 "metadata": {
  "kernelspec": {
   "display_name": "Python 3",
   "language": "python",
   "name": "python3"
  },
  "language_info": {
   "codemirror_mode": {
    "name": "ipython",
    "version": 3
   },
   "file_extension": ".py",
   "mimetype": "text/x-python",
   "name": "python",
   "nbconvert_exporter": "python",
   "pygments_lexer": "ipython3",
   "version": "3.8.5"
  }
 },
 "nbformat": 4,
 "nbformat_minor": 4
}
