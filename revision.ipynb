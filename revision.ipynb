{
 "cells": [
  {
   "cell_type": "code",
   "execution_count": 7,
   "metadata": {},
   "outputs": [
    {
     "name": "stdout",
     "output_type": "stream",
     "text": [
      "['banana', 'cherry', 'apple', 'kiwi', 'date']\n"
     ]
    }
   ],
   "source": [
    "a=['apple','banana','cherry','kiwi','date']\n",
    "b=sorted(a,key=len,reverse=True)\n",
    "print(b)"
   ]
  },
  {
   "cell_type": "code",
   "execution_count": 8,
   "metadata": {},
   "outputs": [
    {
     "name": "stdout",
     "output_type": "stream",
     "text": [
      "['kiwi', 'date', 'apple', 'banana', 'cherry']\n"
     ]
    }
   ],
   "source": [
    "a=['apple','banana','cherry','kiwi','date']\n",
    "b=sorted(a,key=len)\n",
    "print(b)"
   ]
  },
  {
   "cell_type": "code",
   "execution_count": 12,
   "metadata": {},
   "outputs": [
    {
     "name": "stdout",
     "output_type": "stream",
     "text": [
      "['apple', 'banana', 'cherry', 'date', 'kiwi']\n"
     ]
    }
   ],
   "source": [
    "a=['apple','banana','cherry','kiwi','date']\n",
    "\n",
    "l=sorted(a,key=lambda word:word[0])\n",
    "print(l)"
   ]
  },
  {
   "cell_type": "code",
   "execution_count": 14,
   "metadata": {},
   "outputs": [
    {
     "name": "stdout",
     "output_type": "stream",
     "text": [
      "[(3, 1), (2, 2), (1, 3)]\n"
     ]
    }
   ],
   "source": [
    "a=[(1,3),(2,2),(3,1)]\n",
    "l=sorted(a,key=lambda x:x[1])\n",
    "print(l)"
   ]
  },
  {
   "cell_type": "code",
   "execution_count": 15,
   "metadata": {},
   "outputs": [
    {
     "name": "stdout",
     "output_type": "stream",
     "text": [
      "['apple', 'banana#cherry#orange']\n",
      "['apple', 'banana', 'cherry#orange']\n",
      "['apple', 'banana', 'cherry', 'orange']\n"
     ]
    }
   ],
   "source": [
    "txt='apple#banana#cherry#orange'\n",
    "x=txt.split(\"#\",1)\n",
    "print(x)\n",
    "y=txt.split(\"#\",2)\n",
    "print(y)\n",
    "z=txt.split(\"#\",3)\n",
    "print(z)\n"
   ]
  },
  {
   "cell_type": "code",
   "execution_count": 16,
   "metadata": {},
   "outputs": [
    {
     "name": "stdout",
     "output_type": "stream",
     "text": [
      "(1, 2, 3, True, False)\n",
      "12\n"
     ]
    }
   ],
   "source": [
    "def f(*m):\n",
    "    print(m)\n",
    "    sum1=len(m)\n",
    "    for i in m:\n",
    "        sum1=sum1+i\n",
    "    return sum1\n",
    "print(f(1,2,3,(4,)==(4,),(5,)==(5)))"
   ]
  },
  {
   "cell_type": "code",
   "execution_count": 18,
   "metadata": {},
   "outputs": [
    {
     "name": "stdout",
     "output_type": "stream",
     "text": [
      "9996\n"
     ]
    }
   ],
   "source": [
    "min=(lambda x,y : x if x<y else y)\n",
    "print(min(101*99,102*98))"
   ]
  },
  {
   "cell_type": "code",
   "execution_count": 19,
   "metadata": {},
   "outputs": [
    {
     "name": "stdout",
     "output_type": "stream",
     "text": [
      "{1, 2, 3, 4, 5, 7}\n"
     ]
    }
   ],
   "source": [
    "x={1,2,3,4,5}\n",
    "y={3,4,5,6,7}\n",
    "z={1,3,5,7,9}\n",
    "print((x|y)&(x|z))"
   ]
  },
  {
   "cell_type": "code",
   "execution_count": 23,
   "metadata": {},
   "outputs": [
    {
     "name": "stdout",
     "output_type": "stream",
     "text": [
      "Enteer How many pizza you want to order : 1\n",
      "small = 50\n",
      "medium = 100\n",
      "large = 200\n",
      "Enter pizza size : small\n",
      "Enter how many pizza toppings you want to add : 1\n",
      "price = 20 : corn,tomato,onoin,capsicun\n",
      "        price = 50 : mashroom,olives,brocolli\n",
      "Enter toppins name : corn\n",
      "Enter cheese count : 1\n",
      "price = 50 : feta,mozarella,cheddar\n",
      "Enter chhes type :  feta\n",
      "120\n"
     ]
    }
   ],
   "source": [
    "#wap to calculate pizza price.\n",
    "total=0\n",
    "n=int(input(\"Enteer How many pizza you want to order : \"))\n",
    "for i in range(n):\n",
    "    print(\"small = 50\")\n",
    "    print(\"medium = 100\")\n",
    "    print(\"large = 200\")\n",
    "    ps=input(\"Enter pizza size : \")\n",
    "    if ps.lower()=='small':\n",
    "        total=total+50\n",
    "    elif ps.lower()=='medium':\n",
    "        total=total+100\n",
    "    elif ps.lower()=='large':\n",
    "        total=total+200\n",
    "    else:\n",
    "        print('invalid choice')\n",
    "        break\n",
    "    \n",
    "    ptc=int(input(\"Enter how many pizza toppings you want to add : \"))\n",
    "    \n",
    "    for j in range(ptc):\n",
    "        print(\"\"\"price = 20 : corn,tomato,onoin,capsicun\n",
    "        price = 50 : mashroom,olives,brocolli\"\"\")\n",
    "        pt=input('Enter toppins name : ')\n",
    "        if pt.lower()=='corn' or pt.lower()=='onion' or pt.lower()=='tomato' or pt.lower()=='capsicum':\n",
    "            total=total+20\n",
    "        elif pt.lower()=='mashroom' or pt.lower()=='olives' or pt.lower()=='brocolli':\n",
    "            total=total+50\n",
    "        else:\n",
    "            print('invalid choice')\n",
    "            \n",
    "    pcc=int(input(\"Enter cheese count : \"))\n",
    "        \n",
    "    for k in range(pcc):\n",
    "        print(\"\"\"price = 50 : feta,mozarella,cheddar\"\"\")\n",
    "        pc=input(\"Enter chhes type :  \")\n",
    "        if pc.lower()=='feta' or pc.lower()=='mozarella' or pc.lower()=='cheddar':\n",
    "            total=total+50\n",
    "        else : \n",
    "            print('invalid choice')\n",
    "print(total)\n",
    "        "
   ]
  },
  {
   "cell_type": "code",
   "execution_count": null,
   "metadata": {},
   "outputs": [],
   "source": []
  }
 ],
 "metadata": {
  "kernelspec": {
   "display_name": "Python 3",
   "language": "python",
   "name": "python3"
  },
  "language_info": {
   "codemirror_mode": {
    "name": "ipython",
    "version": 3
   },
   "file_extension": ".py",
   "mimetype": "text/x-python",
   "name": "python",
   "nbconvert_exporter": "python",
   "pygments_lexer": "ipython3",
   "version": "3.8.5"
  }
 },
 "nbformat": 4,
 "nbformat_minor": 4
}
